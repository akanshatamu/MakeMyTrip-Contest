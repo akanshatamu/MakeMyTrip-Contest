{
 "cells": [
  {
   "cell_type": "code",
   "execution_count": 1,
   "metadata": {
    "collapsed": false
   },
   "outputs": [
    {
     "name": "stdout",
     "output_type": "stream",
     "text": [
      "Hello World!\n"
     ]
    }
   ],
   "source": [
    "print 'Hello World!'"
   ]
  },
  {
   "cell_type": "markdown",
   "metadata": {},
   "source": [
    "The exercise is done  based on the following steps, <Step-1> Data mining and extraction:- This step involves reading the train_search.csv and hotel.csv and converting the data into a single table, globalTrain.csv. This process is executed using \"join\" using python pandas. However, here due to the size of data, I used mysql to generate the table. <Step-2> Identifying features and target in the test and training data. The features are extracted from the globalTrain and the target is the \"Segment\". This step involves the python pandas library and the following dataframes are created: X_train (features of trainigng data), y_train (target of training data), X_test (features of test dat i.e. evaluation.csv) and y_test (target of test data i.e. our final objective, the y_test is generated at the end). <Step-3> Performs cross-validation based F1 score tests and build the classifier models. Then fit the training data in the classifier. <Step-4> Predict y_test from the classifier fits."
   ]
  },
  {
   "cell_type": "markdown",
   "metadata": {},
   "source": [
    "Read train_search.csv and store the data in a data frame named, \"searchData\""
   ]
  },
  {
   "cell_type": "code",
   "execution_count": 2,
   "metadata": {
    "collapsed": false
   },
   "outputs": [
    {
     "name": "stdout",
     "output_type": "stream",
     "text": [
      "Successfull!!\n"
     ]
    },
    {
     "name": "stderr",
     "output_type": "stream",
     "text": [
      "/home/akansha/anaconda2/lib/python2.7/site-packages/matplotlib/font_manager.py:273: UserWarning: Matplotlib is building the font cache using fc-list. This may take a moment.\n",
      "  warnings.warn('Matplotlib is building the font cache using fc-list. This may take a moment.')\n"
     ]
    }
   ],
   "source": [
    "import numpy as np\n",
    "import pandas as pd\n",
    "import matplotlib.pyplot as plt\n",
    "# Tell iPython to include plots inline in the notebook\n",
    "%matplotlib inline\n",
    "# Read dataset\n",
    "searchData = pd.read_csv(\"train_search.csv\")\n",
    "#print \"Dataset has {} rows, {} columns\".format(*searchData.shape)\n",
    "#print searchData.head() # print the first 5 rows\n",
    "print \"Successfull!!\""
   ]
  },
  {
   "cell_type": "markdown",
   "metadata": {},
   "source": [
    "Read Hotel.csv and store the data in a data frame named, \"hotelData\""
   ]
  },
  {
   "cell_type": "code",
   "execution_count": 3,
   "metadata": {
    "collapsed": false
   },
   "outputs": [
    {
     "name": "stdout",
     "output_type": "stream",
     "text": [
      "Successfull!!\n"
     ]
    }
   ],
   "source": [
    "# Read dataset\n",
    "hotelData = pd.read_csv(\"Hotel.csv\")\n",
    "#print \"Dataset has {} rows, {} columns\".format(*hotelData.shape)\n",
    "#print hotelData.head() # print the first 5 rows\n",
    "print \"Successfull!!\""
   ]
  },
  {
   "cell_type": "code",
   "execution_count": null,
   "metadata": {
    "collapsed": false
   },
   "outputs": [],
   "source": [
    "from sklearn import svm, grid_search, datasets\n",
    "iris = datasets.load_iris()\n",
    "parameters = {'kernel':('linear', 'rbf'), 'C':[1, 10]}\n",
    "svr = svm.SVC()\n",
    "clf = grid_search.GridSearchCV(svr, parameters)\n",
    "clf.fit(iris.data, iris.target)\n",
    "print iris.data.head()"
   ]
  },
  {
   "cell_type": "markdown",
   "metadata": {},
   "source": [
    "Now join the two data frames based on \"HotelCOde\" and develop a single data frame \"globalData\". in this process also create a csv file, \"globalTrain.csv\". Due to the size of searchData and computational limitations on my laptop I did not execute this join, rather used mysql to execute the join."
   ]
  },
  {
   "cell_type": "code",
   "execution_count": null,
   "metadata": {
    "collapsed": false
   },
   "outputs": [],
   "source": [
    "#globalData = searchData.join(hotelData, on='HotelCode')\n",
    "#print \"Dataset has {} rows, {} columns\".format(*globalData.shape)\n",
    "#print globalData.head() # print the first 5 rows\n"
   ]
  },
  {
   "cell_type": "code",
   "execution_count": 4,
   "metadata": {
    "collapsed": false
   },
   "outputs": [
    {
     "name": "stdout",
     "output_type": "stream",
     "text": [
      "Successfull!!\n"
     ]
    }
   ],
   "source": [
    "globalData = pd.read_csv(\"globalTrain.csv\")\n",
    "#print globalData.head() # print the first 5 rows\n",
    "globalData=globalData.rename(columns = {' HotelCode':'HotelCode'})\n",
    "globalData=globalData.rename(columns = {' Age':'Age'})\n",
    "globalData=globalData.rename(columns = {' Gender':'Gender'})\n",
    "globalData=globalData.rename(columns = {' Number of Rooms':'Number of Rooms'})\n",
    "globalData=globalData.rename(columns = {' Check in date':'Check in date'})\n",
    "globalData=globalData.rename(columns = {' Check Out Date':'Check Out Date'})\n",
    "globalData=globalData.rename(columns = {' Seen Price':'Seen Price'})\n",
    "globalData=globalData.rename(columns = {' isClicked':'isClicked'})\n",
    "globalData=globalData.rename(columns = {' isBooked':'isBooked'})\n",
    "globalData=globalData.rename(columns = {' Segment':'Segment'})\n",
    "#print globalData.dtypes;\n",
    "globalData['Booking Date'] =  pd.to_datetime(globalData['Booking Date'])\n",
    "globalData['Check in date'] =  pd.to_datetime(globalData['Check in date'])\n",
    "globalData['Check Out Date'] =  pd.to_datetime(globalData['Check Out Date'])\n",
    "globalData['isClicked'] =  globalData['isClicked'].astype(str)\n",
    "globalData['isBooked'] =  globalData['isBooked'].astype(str)\n",
    "\n",
    "globalData['Stay Period'] = (globalData['Check Out Date'] - globalData['Check in date'])/np.timedelta64(1, 'D');\n",
    "globalData['Travel Gap'] = (globalData['Check in date'] - globalData['Booking Date'])/np.timedelta64(1, 'D');\n",
    "#print globalData.dtypes;\n",
    "#print \"Dataset has {} rows, {} columns\".format(*globalData.shape)\n",
    "#print globalData.head() # print the first 5 rows\n",
    "print \"Successfull!!\""
   ]
  },
  {
   "cell_type": "markdown",
   "metadata": {},
   "source": [
    "From the data, it is evident that the segment depends on,\n",
    "1> Age (3), 2> Gender (4), 3> Number of rooms (5), 4> Seen price (8), 5> isCLicked (9), 6> isBooked (10), 7> Star Rating (16), 8> Trip Adviser Rating (17), 9> Stay period (Difference in days between Check out date and Check in date) (18), 10 > Travel Gap  (Difference in days between booking date and check in date) (19).\n",
    "Therefore, there are 10 features as mentioned above. Some of the features have a string/object value, convert those to discretes ones an zeros. "
   ]
  },
  {
   "cell_type": "code",
   "execution_count": 18,
   "metadata": {
    "collapsed": false
   },
   "outputs": [
    {
     "name": "stderr",
     "output_type": "stream",
     "text": [
      "/home/akansha/anaconda2/lib/python2.7/site-packages/ipykernel/__main__.py:7: SettingWithCopyWarning: \n",
      "A value is trying to be set on a copy of a slice from a DataFrame.\n",
      "Try using .loc[row_indexer,col_indexer] = value instead\n",
      "\n",
      "See the caveats in the documentation: http://pandas.pydata.org/pandas-docs/stable/indexing.html#indexing-view-versus-copy\n",
      "/home/akansha/anaconda2/lib/python2.7/site-packages/ipykernel/__main__.py:8: SettingWithCopyWarning: \n",
      "A value is trying to be set on a copy of a slice from a DataFrame.\n",
      "Try using .loc[row_indexer,col_indexer] = value instead\n",
      "\n",
      "See the caveats in the documentation: http://pandas.pydata.org/pandas-docs/stable/indexing.html#indexing-view-versus-copy\n",
      "/home/akansha/anaconda2/lib/python2.7/site-packages/ipykernel/__main__.py:9: SettingWithCopyWarning: \n",
      "A value is trying to be set on a copy of a slice from a DataFrame.\n",
      "Try using .loc[row_indexer,col_indexer] = value instead\n",
      "\n",
      "See the caveats in the documentation: http://pandas.pydata.org/pandas-docs/stable/indexing.html#indexing-view-versus-copy\n",
      "/home/akansha/anaconda2/lib/python2.7/site-packages/ipykernel/__main__.py:10: SettingWithCopyWarning: \n",
      "A value is trying to be set on a copy of a slice from a DataFrame.\n",
      "Try using .loc[row_indexer,col_indexer] = value instead\n",
      "\n",
      "See the caveats in the documentation: http://pandas.pydata.org/pandas-docs/stable/indexing.html#indexing-view-versus-copy\n"
     ]
    },
    {
     "name": "stdout",
     "output_type": "stream",
     "text": [
      "Age                     int64\n",
      "Gender                  int64\n",
      "Number of Rooms         int64\n",
      "Seen Price              int64\n",
      "isClicked               int64\n",
      "isBooked                int64\n",
      "Star Rating             int64\n",
      "TripAdvisor Rating    float64\n",
      "Stay Period           float64\n",
      "Travel Gap            float64\n",
      "dtype: object\n",
      "Successful!!\n"
     ]
    }
   ],
   "source": [
    "#Now separate training data\n",
    "X_train=globalData.iloc[:,[3,4,5,8,9,10,16,17,18,19]];\n",
    "#X_train=globalData.iloc[:,[3,5,8,16,18]];\n",
    "#X_train=globalData.iloc[:,[3,4,8,16,18]];\n",
    "#X_train=globalData.iloc[:,[3,4,18]];\n",
    "#X_train=globalData.iloc[:,[3,4,5,8,9,16,17,18,19]];\n",
    "X_train['Gender'] = X_train['Gender'].replace(['male', 'female'], [1, 0])\n",
    "X_train['isClicked'] = X_train['isClicked'].replace(['True', 'False'], [1, 0])\n",
    "X_train['isBooked'] = X_train['isBooked'].replace(['True', 'False'], [1, 0])\n",
    "X_train[X_train < 0] = 0\n",
    "#print X_train.head();\n",
    "print X_train.dtypes;\n",
    "#print X_train['Travel Gap'];\n",
    "print \"Successful!!\""
   ]
  },
  {
   "cell_type": "code",
   "execution_count": 19,
   "metadata": {
    "collapsed": false
   },
   "outputs": [
    {
     "name": "stdout",
     "output_type": "stream",
     "text": [
      "Successfull!!\n"
     ]
    },
    {
     "name": "stderr",
     "output_type": "stream",
     "text": [
      "/home/akansha/anaconda2/lib/python2.7/site-packages/ipykernel/__main__.py:3: SettingWithCopyWarning: \n",
      "A value is trying to be set on a copy of a slice from a DataFrame.\n",
      "Try using .loc[row_indexer,col_indexer] = value instead\n",
      "\n",
      "See the caveats in the documentation: http://pandas.pydata.org/pandas-docs/stable/indexing.html#indexing-view-versus-copy\n",
      "  app.launch_new_instance()\n"
     ]
    }
   ],
   "source": [
    "#Now separate training data - Target\n",
    "y_train=globalData.iloc[:,[11]];\n",
    "y_train['Segment'] = y_train['Segment'].replace(['backpacker', 'couple','family'], [1, 3, 2])\n",
    "#print y_train.head();\n",
    "#print y_train.dtypes;\n",
    "print \"Successfull!!\""
   ]
  },
  {
   "cell_type": "code",
   "execution_count": null,
   "metadata": {
    "collapsed": false
   },
   "outputs": [],
   "source": [
    "from sklearn.feature_selection import SelectKBest\n",
    "from sklearn.feature_selection import chi2\n",
    "X_new = SelectKBest(chi2).fit_transform(X_train, y_train)\n",
    "print X_new.shape\n",
    "print X_new.head()"
   ]
  },
  {
   "cell_type": "code",
   "execution_count": null,
   "metadata": {
    "collapsed": false
   },
   "outputs": [],
   "source": [
    "from sklearn.feature_selection import VarianceThreshold\n",
    "sel = VarianceThreshold(threshold=(.8 * (1 - .8)))\n",
    "print sel.fit_transform(X_train)[0,:]\n",
    "print X_train.head(n=1)"
   ]
  },
  {
   "cell_type": "code",
   "execution_count": 20,
   "metadata": {
    "collapsed": false
   },
   "outputs": [
    {
     "name": "stdout",
     "output_type": "stream",
     "text": [
      "Successfull!!\n"
     ]
    }
   ],
   "source": [
    "bigdata = pd.concat([X_train, y_train], axis=1)\n",
    "#bigdata=X_train.append(y_train,ignore_index = True)\n",
    "#print bigdata.corr().head();\n",
    "#print bigdata.dtypes;\n",
    "print \"Successfull!!\"\n",
    "#print bigdata.corr()"
   ]
  },
  {
   "cell_type": "code",
   "execution_count": 21,
   "metadata": {
    "collapsed": false
   },
   "outputs": [],
   "source": [
    "#conda install seaborn"
   ]
  },
  {
   "cell_type": "code",
   "execution_count": 26,
   "metadata": {
    "collapsed": false
   },
   "outputs": [
    {
     "data": {
      "text/plain": [
       "<matplotlib.axes._subplots.AxesSubplot at 0x7f54a257fc50>"
      ]
     },
     "execution_count": 26,
     "metadata": {},
     "output_type": "execute_result"
    },
    {
     "data": {
      "image/png": "[encoded data removed]",
      "text/plain": [
       "<matplotlib.figure.Figure at 0x7f54a26db290>"
      ]
     },
     "metadata": {},
     "output_type": "display_data"
    }
   ],
   "source": [
    "from string import letters\n",
    "import numpy as np\n",
    "import pandas as pd\n",
    "import seaborn as sns\n",
    "import matplotlib.pyplot as plt\n",
    "\n",
    "sns.set(style=\"white\")\n",
    "\n",
    "# Compute the correlation matrix\n",
    "corr = bigdata.corr()\n",
    "\n",
    "# Generate a mask for the upper triangle\n",
    "mask = np.zeros_like(corr, dtype=np.bool)\n",
    "mask[np.triu_indices_from(mask)] = True\n",
    "\n",
    "# Set up the matplotlib figure\n",
    "f, ax = plt.subplots(figsize=(11, 9))\n",
    "\n",
    "# Generate a custom diverging colormap\n",
    "cmap = sns.diverging_palette(220, 10, as_cmap=True)\n",
    "\n",
    "# Draw the heatmap with the mask and correct aspect ratio\n",
    "sns.heatmap(corr, mask=mask, cmap=cmap, vmax=.3,\n",
    "            square=True, xticklabels=5, yticklabels=5,\n",
    "            linewidths=.5, cbar_kws={\"shrink\": .5}, ax=ax)"
   ]
  },
  {
   "cell_type": "code",
   "execution_count": 31,
   "metadata": {
    "collapsed": false
   },
   "outputs": [
    {
     "ename": "ValueError",
     "evalue": "The truth value of an array with more than one element is ambiguous. Use a.any() or a.all()",
     "output_type": "error",
     "traceback": [
      "\u001b[1;31m---------------------------------------------------------------------------\u001b[0m",
      "\u001b[1;31mValueError\u001b[0m                                Traceback (most recent call last)",
      "\u001b[1;32m<ipython-input-31-d790283fd8f8>\u001b[0m in \u001b[0;36m<module>\u001b[1;34m()\u001b[0m\n\u001b[0;32m      1\u001b[0m \u001b[1;32mimport\u001b[0m \u001b[0mstatsmodels\u001b[0m\u001b[1;33m.\u001b[0m\u001b[0mapi\u001b[0m \u001b[1;32mas\u001b[0m \u001b[0msm\u001b[0m\u001b[1;33m\u001b[0m\u001b[0m\n\u001b[0;32m      2\u001b[0m \u001b[0mcorr_matrix\u001b[0m \u001b[1;33m=\u001b[0m \u001b[0mnp\u001b[0m\u001b[1;33m.\u001b[0m\u001b[0mcorrcoef\u001b[0m\u001b[1;33m(\u001b[0m\u001b[0mbigdata\u001b[0m\u001b[1;33m.\u001b[0m\u001b[0mT\u001b[0m\u001b[1;33m)\u001b[0m\u001b[1;33m\u001b[0m\u001b[0m\n\u001b[1;32m----> 3\u001b[1;33m \u001b[0msm\u001b[0m\u001b[1;33m.\u001b[0m\u001b[0mgraphics\u001b[0m\u001b[1;33m.\u001b[0m\u001b[0mplot_corr\u001b[0m\u001b[1;33m(\u001b[0m\u001b[0mcorr_matrix\u001b[0m\u001b[1;33m,\u001b[0m \u001b[0mxnames\u001b[0m\u001b[1;33m=\u001b[0m\u001b[0mbigdata\u001b[0m\u001b[1;33m.\u001b[0m\u001b[0mcolumns\u001b[0m\u001b[1;33m.\u001b[0m\u001b[0mvalues\u001b[0m\u001b[1;33m)\u001b[0m\u001b[1;33m\u001b[0m\u001b[0m\n\u001b[0m\u001b[0;32m      4\u001b[0m \u001b[0mplt\u001b[0m\u001b[1;33m.\u001b[0m\u001b[0mshow\u001b[0m\u001b[1;33m(\u001b[0m\u001b[1;33m)\u001b[0m\u001b[1;33m\u001b[0m\u001b[0m\n",
      "\u001b[1;32m/home/akansha/anaconda2/lib/python2.7/site-packages/statsmodels/graphics/correlation.py\u001b[0m in \u001b[0;36mplot_corr\u001b[1;34m(dcorr, xnames, ynames, title, normcolor, ax, cmap)\u001b[0m\n\u001b[0;32m     89\u001b[0m     \u001b[0mlabelPos\u001b[0m \u001b[1;33m=\u001b[0m \u001b[0mnp\u001b[0m\u001b[1;33m.\u001b[0m\u001b[0marange\u001b[0m\u001b[1;33m(\u001b[0m\u001b[1;36m0\u001b[0m\u001b[1;33m,\u001b[0m \u001b[0mnvars\u001b[0m\u001b[1;33m)\u001b[0m \u001b[1;33m+\u001b[0m \u001b[1;36m0.5\u001b[0m\u001b[1;33m\u001b[0m\u001b[0m\n\u001b[0;32m     90\u001b[0m \u001b[1;33m\u001b[0m\u001b[0m\n\u001b[1;32m---> 91\u001b[1;33m     \u001b[1;32mif\u001b[0m \u001b[0mynames\u001b[0m\u001b[1;33m:\u001b[0m\u001b[1;33m\u001b[0m\u001b[0m\n\u001b[0m\u001b[0;32m     92\u001b[0m         \u001b[0max\u001b[0m\u001b[1;33m.\u001b[0m\u001b[0mset_yticks\u001b[0m\u001b[1;33m(\u001b[0m\u001b[0mlabelPos\u001b[0m\u001b[1;33m)\u001b[0m\u001b[1;33m\u001b[0m\u001b[0m\n\u001b[0;32m     93\u001b[0m         \u001b[0max\u001b[0m\u001b[1;33m.\u001b[0m\u001b[0mset_yticks\u001b[0m\u001b[1;33m(\u001b[0m\u001b[0mlabelPos\u001b[0m\u001b[1;33m[\u001b[0m\u001b[1;33m:\u001b[0m\u001b[1;33m-\u001b[0m\u001b[1;36m1\u001b[0m\u001b[1;33m]\u001b[0m\u001b[1;33m+\u001b[0m\u001b[1;36m0.5\u001b[0m\u001b[1;33m,\u001b[0m \u001b[0mminor\u001b[0m\u001b[1;33m=\u001b[0m\u001b[0mTrue\u001b[0m\u001b[1;33m)\u001b[0m\u001b[1;33m\u001b[0m\u001b[0m\n",
      "\u001b[1;31mValueError\u001b[0m: The truth value of an array with more than one element is ambiguous. Use a.any() or a.all()"
     ]
    },
    {
     "data": {
      "image/png": "[encoded data removed]",
      "text/plain": [
       "<matplotlib.figure.Figure at 0x7f54a2556cd0>"
      ]
     },
     "metadata": {},
     "output_type": "display_data"
    }
   ],
   "source": [
    "import statsmodels.api as sm\n",
    "corr_matrix = np.corrcoef(bigdata.T)\n",
    "sm.graphics.plot_corr(corr_matrix, xnames=bigdata.columns.values)\n",
    "plt.show()"
   ]
  },
  {
   "cell_type": "code",
   "execution_count": 9,
   "metadata": {
    "collapsed": false
   },
   "outputs": [
    {
     "name": "stdout",
     "output_type": "stream",
     "text": [
      "[[  5.40301043e-08   1.95380112e-09   4.98571190e-10  -1.00000000e+00\n",
      "    8.09557631e-10  -2.33086186e-10  -5.23225422e-09  -1.57612211e-09\n",
      "   -9.57986790e-09   8.20738300e-08]\n",
      " [  1.04019990e-02  -4.78484679e-05   3.06806328e-04   8.25246189e-08\n",
      "    3.86843950e-05   3.31918879e-06   2.01061826e-04   1.27154302e-04\n",
      "    1.05488107e-02   9.99890177e-01]]\n",
      "[  9.99999999e-01   1.05329442e-09]\n"
     ]
    }
   ],
   "source": [
    "from sklearn.decomposition import PCA\n",
    "pca = PCA(n_components=2)\n",
    "pca.fit(X_train)\n",
    "# Print the components and the amount of variance in the data contained in each dimension\n",
    "print pca.components_\n",
    "print pca.explained_variance_ratio_"
   ]
  },
  {
   "cell_type": "code",
   "execution_count": 12,
   "metadata": {
    "collapsed": false
   },
   "outputs": [
    {
     "name": "stdout",
     "output_type": "stream",
     "text": [
      "[[  3.36151357e-07   4.92876201e-03  -4.79629764e-04   9.51453093e-12\n",
      "   -6.52359245e-06   2.48902640e-06  -1.87044124e-05   1.17605783e-05\n",
      "    1.87481259e-06   3.08764281e-07]\n",
      " [  4.71851194e-06  -7.28788971e-06   3.05799118e-07  -5.75857391e-12\n",
      "   -3.64656127e-07  -2.74219249e-08   7.21049322e-05   3.65738088e-05\n",
      "    1.41904654e-04  -4.65602447e-05]\n",
      " [ -8.19650284e-06  -1.28346415e-05  -7.50348359e-06  -1.25780591e-11\n",
      "    6.04328062e-08   1.55306441e-07  -1.43372893e-04  -8.41975958e-05\n",
      "    1.32040639e-03  -9.01300991e-06]\n",
      " [  3.14473108e-06  -4.34442739e-05   2.12306158e-05  -1.35745413e-11\n",
      "   -1.17487213e-05  -1.30258118e-06   2.74125729e-03   1.42941023e-03\n",
      "    4.60400839e-05   1.92748688e-07]\n",
      " [ -3.23639905e-07  -9.11486603e-08   4.58191252e-08  -1.47008155e-09\n",
      "   -2.69716126e-08  -2.95175859e-09   6.26963751e-06   3.26696552e-06\n",
      "    4.10188121e-07   1.06183628e-08]\n",
      " [ -1.68761734e-04  -3.78880882e-05   3.87207721e-06  -6.42622662e-12\n",
      "   -6.07314221e-08  -3.38952314e-08   3.18575152e-05   1.64267381e-05\n",
      "   -8.84877307e-06   2.47264354e-07]]\n"
     ]
    },
    {
     "data": {
      "text/plain": [
       "<matplotlib.axes._subplots.AxesSubplot at 0x7f54ad9a0b90>"
      ]
     },
     "execution_count": 12,
     "metadata": {},
     "output_type": "execute_result"
    },
    {
     "data": {
      "image/png": "[encoded data removed]",
      "text/plain": [
       "<matplotlib.figure.Figure at 0x7f54ad9757d0>"
      ]
     },
     "metadata": {},
     "output_type": "display_data"
    }
   ],
   "source": [
    "from sklearn.decomposition import FastICA\n",
    "ica = FastICA(n_components=6, random_state=1)\n",
    "ica.fit(X_train)\n",
    "# Print the independent components\n",
    "print ica.components_\n",
    "pd.DataFrame(ica.components_, columns=X_train.columns).plot(kind = 'bar', figsize = (12, 6))"
   ]
  },
  {
   "cell_type": "markdown",
   "metadata": {},
   "source": [
    "The best way to test a classifier model is cross-validation. In cross-validation an input set is brocken into training and testing set. The testting set is used to test the model built using the training set. And then the F1 score is computed. The next block of code is used to split the input data randomly into traing set and testing set. After the block is executed a set of training and test features and target are available for cross validation. The variables generated are X_train_cv, y_train_cv, X_test_cv and y_test_cv."
   ]
  },
  {
   "cell_type": "code",
   "execution_count": 97,
   "metadata": {
    "collapsed": false
   },
   "outputs": [
    {
     "name": "stdout",
     "output_type": "stream",
     "text": [
      "Training set: 122848 samples\n",
      "Test set: 40000 samples\n"
     ]
    }
   ],
   "source": [
    "from sklearn.cross_validation import train_test_split\n",
    "# First, decide how many training vs test samples you want\n",
    "num_test = 40000\n",
    "X_train_cv, X_test_cv, y_train_cv, y_test_cv = train_test_split(X_train, y_train, test_size=num_test)\n",
    "print \"Training set: {} samples\".format(X_train_cv.shape[0])\n",
    "print \"Test set: {} samples\".format(X_test_cv.shape[0])"
   ]
  },
  {
   "cell_type": "markdown",
   "metadata": {},
   "source": [
    "The next block of code is a method that fits a training data into an inputted classifier and also returns and prints the time it takes to train the model."
   ]
  },
  {
   "cell_type": "code",
   "execution_count": 87,
   "metadata": {
    "collapsed": false
   },
   "outputs": [],
   "source": [
    "import time as time\n",
    "from sklearn.svm import SVC\n",
    "from sklearn.naive_bayes import GaussianNB\n",
    "from sklearn.tree import DecisionTreeClassifier\n",
    "from sklearn.discriminant_analysis import LinearDiscriminantAnalysis\n",
    "def train_classifier(clf, X_train, y_train):\n",
    "    print \"Training {}...\".format(clf.__class__.__name__)\n",
    "    start = time.time()\n",
    "    clf.fit(X_train, y_train)\n",
    "    end = time.time()\n",
    "    print \"Done!\\nTraining time (secs): {:.3f}\".format(end - start)\n",
    "    return (end - start)\n"
   ]
  },
  {
   "cell_type": "markdown",
   "metadata": {},
   "source": [
    "A decision tree classifier is initiated and a classifier model is built and fittedwith the cross-validation training features and target."
   ]
  },
  {
   "cell_type": "code",
   "execution_count": 103,
   "metadata": {
    "collapsed": false
   },
   "outputs": [
    {
     "name": "stdout",
     "output_type": "stream",
     "text": [
      "Training AdaBoostClassifier...\n",
      "Done!\n",
      "Training time (secs): 4.686\n",
      "Successfull!!\n"
     ]
    },
    {
     "name": "stderr",
     "output_type": "stream",
     "text": [
      "/home/akansha/anaconda2/lib/python2.7/site-packages/sklearn/utils/validation.py:515: DataConversionWarning: A column-vector y was passed when a 1d array was expected. Please change the shape of y to (n_samples, ), for example using ravel().\n",
      "  y = column_or_1d(y, warn=True)\n"
     ]
    }
   ],
   "source": [
    "# Fit model to training data\n",
    "#Best classifier\n",
    "import time as time\n",
    "from sklearn.tree import DecisionTreeClassifier\n",
    "#clf = DecisionTreeClassifier(random_state=0)\n",
    "#clf = DecisionTreeClassifier(min_samples_split= 2, max_leaf_nodes= 32, criterion= 'entropy',\n",
    "#                             max_depth = 9, min_samples_leaf=179)\n",
    "#clf = DecisionTreeClassifier(min_samples_split= 21, max_leaf_nodes= 20, criterion= 'gini',\n",
    "#                             max_depth = None, min_samples_leaf=11)\n",
    "\n",
    "from sklearn import svm, grid_search, naive_bayes\n",
    "from sklearn.grid_search import GridSearchCV, RandomizedSearchCV\n",
    "from sklearn import linear_model\n",
    "\n",
    "#dtr_params = {'criterion':(\"gini\",\"entropy\")}\n",
    "#dtc2 = DecisionTreeClassifier(random_state=0)\n",
    "#lr = linear_model.LogisticRegression()\n",
    "#clf = grid_search.GridSearchCV(dtc2, dtr_params)\n",
    "\n",
    "#dtr_params = {'criterion':(\"gini\",\"entropy\"),'presort':(\"True\",\"False\"),\n",
    "#              'min_weight_fraction_leaf':(0,0.25,0.5), 'min_samples_leaf':(1,2,3),\n",
    "#              'min_samples_split':(2,4,8,16,32),'min_samples_split':(2,4,8,16), \n",
    "#              'max_features':(\"auto\",\"sqrt\",\"log2\"),'max_depth':np.arange(1,5,1)}\n",
    "#dtc2 = DecisionTreeClassifier(random_state=0)\n",
    "#clf = grid_search.GridSearchCV(dtc2, dtr_params)   \n",
    "\n",
    "#from  sklearn.ensemble import RandomForestClassifier\n",
    "#clf1 = RandomForestClassifier(n_estimators=20)\n",
    "# use a full grid over all parameters\n",
    "#param_grid = {#\"max_depth\": [3, None],\n",
    "              #\"max_features\": [1, 3, 10],\n",
    "              #\"min_samples_split\": [1, 3, 10],\n",
    "              #\"min_samples_leaf\": [1, 3, 10],\n",
    "              #\"bootstrap\": [True, False],\n",
    "              # \"criterion\": [\"gini\", \"entropy\"]\n",
    "              #  \"n_estimators\": [5, 20,30]}\n",
    "#clf = GridSearchCV(clf1, param_grid=param_grid)\n",
    "\n",
    "#parameters={'C' : [.005,.05,.5,1.,10.,100.,],\n",
    "#'fit_intercept' : [True, False],\n",
    "#'class_weight': [ None,'balanced'],\n",
    "#'random_state' : [None,42],\n",
    "#'penalty': ['l1', 'l2']\n",
    "#}\n",
    "#clf = svm.SVC()\n",
    "\n",
    "#SVC does not work\n",
    "#parameters = {'kernel':('linear', 'rbf'), 'C':[1, 20]}\n",
    "#svr = svm.SVC()\n",
    "#clf = SVC(kernel=\"linear\", C=1.0)\n",
    "\n",
    "#Bad results\n",
    "#clf= GaussianNB()\n",
    "\n",
    "#clf=SVC(C=1.0, cache_size=200, class_weight=None, coef0=0.0,\n",
    "#    decision_function_shape=None, degree=3, gamma='auto', kernel='rbf',\n",
    "#    max_iter=-1, probability=False, random_state=None, shrinking=True,\n",
    "#    tol=0.001, verbose=False)\n",
    "\n",
    "#from sklearn.linear_model import LogisticRegression\n",
    "#clf = LogisticRegression()\n",
    "\n",
    "\n",
    "#from sklearn.linear_model import SGDRegressor\n",
    "#clf = SGDRegressor(alpha=0.0001, average=False, epsilon=0.1, eta0=0.01,\n",
    "#             fit_intercept=True, l1_ratio=0.15, learning_rate='invscaling',\n",
    "#             loss='squared_loss', n_iter=5, penalty='l2', power_t=0.25,\n",
    "#             random_state=None, shuffle=True, verbose=0, warm_start=False)\n",
    "\n",
    "#from sklearn.naive_bayes import BernoulliNB\n",
    "#clf = BernoulliNB()\n",
    "\n",
    "#from sklearn.linear_model import PassiveAggressiveClassifier\n",
    "#clf=PassiveAggressiveClassifier()\n",
    "\n",
    "#Works\n",
    "#from sklearn.neighbors import KNeighborsClassifier\n",
    "#clf = KNeighborsClassifier(n_neighbors=35)\n",
    "\n",
    "#Works\n",
    "#from  sklearn.ensemble import RandomForestClassifier\n",
    "#clf = RandomForestClassifier(criterion='entropy',n_estimators=100, max_features=None,random_state=None)\n",
    "#clf = RandomForestClassifier(n_estimators=20,min_samples_split=4)\n",
    "\n",
    "\n",
    "#Works\n",
    "#from  sklearn.ensemble import RandomForestClassifier\n",
    "#clf = RandomForestClassifier(n_estimators=100)\n",
    "#clf = RandomForestClassifier(n_estimators=100,max_features=None)\n",
    "\n",
    "#Works\n",
    "from  sklearn.ensemble import AdaBoostClassifier\n",
    "#clf = AdaBoostClassifier(n_estimators=50)\n",
    "clf = AdaBoostClassifier(n_estimators=60,learning_rate=0.65)\n",
    "\n",
    "#from sklearn.tree import DecisionTreeClassifier\n",
    "#clf2 = DecisionTreeClassifier(min_samples_split= 2, max_leaf_nodes= 20, criterion= 'gini',\n",
    "#                             max_depth = None, min_samples_leaf=1)\n",
    "#clf = AdaBoostClassifier(base_estimator=clf2,n_estimators=1,learning_rate=18,algorithm='SAMME')\n",
    "\n",
    "\n",
    "#clf1 = AdaBoostClassifier()\n",
    "#param_grid = { \"n_estimators\": [5, 20,30]}\n",
    "#lf = GridSearchCV(clf1, param_grid=param_grid)\n",
    "\n",
    "#from  sklearn.ensemble import RandomForestClassifier\n",
    "#clf1 = RandomForestClassifier(n_estimators=20)\n",
    "#clf = AdaBoostClassifier(base_estimator=clf1,n_estimators=50)\n",
    "\n",
    "#Works\n",
    "#from  sklearn.discriminant_analysis import LinearDiscriminantAnalysis\n",
    "#clf = LinearDiscriminantAnalysis(solver='eigen', shrinkage='auto', tol=0.0001)\n",
    "\n",
    "#Works\n",
    "#from  sklearn.discriminant_analysis import QuadraticDiscriminantAnalysis\n",
    "#clf = QuadraticDiscriminantAnalysis(priors=None, reg_param=0.0, store_covariances=False, tol=0.000000001)\n",
    "\n",
    "train_classifier(clf, X_train_cv, y_train_cv) # note: using entire training set here\n",
    "#print clf # you can inspect the learned model by printing it\n",
    "\n",
    "print \"Successfull!!\""
   ]
  },
  {
   "cell_type": "code",
   "execution_count": 7,
   "metadata": {
    "collapsed": false
   },
   "outputs": [
    {
     "name": "stdout",
     "output_type": "stream",
     "text": [
      "-- Grid Parameter Search via 10-fold CV\n"
     ]
    }
   ],
   "source": [
    "from scipy.stats import randint as sp_randint\n",
    "from sklearn.svm import SVC\n",
    "from sklearn import svm, grid_search, naive_bayes\n",
    "from sklearn.grid_search import GridSearchCV, RandomizedSearchCV\n",
    "from sklearn import linear_model\n",
    "print(\"-- Grid Parameter Search via 10-fold CV\")\n",
    "\n",
    "# set of parameters to test\n",
    "#param_dist = {\"criterion\": [\"gini\", \"entropy\"],\n",
    "#              \"min_samples_split\": [2,10,20],\n",
    "#              \"max_depth\": [None, 2, 5, 10],\n",
    "#              \"min_samples_leaf\": [1,5,10],\n",
    "#              \"max_leaf_nodes\": [None, 5, 10, 20],\n",
    "#              }\n",
    "#dt = DecisionTreeClassifier()\n",
    "\n",
    "#param_dist = {\"criterion\": [\"gini\", \"entropy\"],\n",
    "#              \"min_samples_split\": sp_randint(1, 100),\n",
    "#              \"max_depth\": sp_randint(1, 20),\n",
    "#              \"min_samples_leaf\": sp_randint(1, 200),\n",
    "#              \"max_leaf_nodes\": sp_randint(2, 100),              \n",
    "#              }\n",
    "#dt = DecisionTreeClassifier()\n",
    "\n",
    "# build a classifier\n",
    "#dt = RandomForestClassifier(n_estimators=20)\n",
    "# specify parameters and distributions to sample from\n",
    "#param_dist = {\"max_depth\": [3, None],\n",
    "#              \"max_features\": sp_randint(1, 4),\n",
    "#              \"min_samples_split\": sp_randint(1, 11),\n",
    "#              \"min_samples_leaf\": sp_randint(1, 11),\n",
    "#              \"bootstrap\": [True, False],\n",
    "#              \"criterion\": [\"gini\", \"entropy\"]}\n",
    "#n_iter_search = 20\n",
    "\n",
    "#from  sklearn.ensemble import AdaBoostClassifier\n",
    "#from sklearn.tree import DecisionTreeClassifier\n",
    "#clf2 = DecisionTreeClassifier(min_samples_split= 2, max_leaf_nodes= 20, criterion= 'gini',\n",
    "#                             max_depth = None, min_samples_leaf=1)\n",
    "#dt = AdaBoostClassifier(base_estimator=clf2)\n",
    "# specify parameters and distributions to sample from\n",
    "#param_dist = {\"n_estimators\": sp_randint(1, 100),\n",
    "#              \"learning_rate\": sp_randint(1, 20),\n",
    "#              \"algorithm\": [\"SAMME\", \"SAMME.R\"]}\n",
    "\n",
    "from  sklearn.ensemble import AdaBoostClassifier\n",
    "dt = AdaBoostClassifier()\n",
    "# specify parameters and distributions to sample from\n",
    "param_dist = {\"n_estimators\": [20, 40,60,80,100],\n",
    "              \"learning_rate\": [ 0.1,0.2,0.3,0.4,0.5,0.6,0.7,0.8,0.9],\n",
    "              \"algorithm\": [\"SAMME\", \"SAMME.R\"]}\n",
    "\n",
    "#dt=SVC();\n",
    "#param_dist = [\n",
    "#  {'C': [1, 10, 100, 1000], 'kernel': ['linear']},\n",
    "#  {'C': [1, 10, 100, 1000], 'gamma': [0.001, 0.0001], 'kernel': ['rbf']},\n",
    "# ];\n",
    "\n",
    "#from  sklearn.linear_model import SGDClassifier\n",
    "#dt = SGDClassifier()\n",
    "#param_dist = {\"loss\": [\"hinge\", \"log\", \"modified_huber\", \"squared_hinge\", \"perceptron\"],\n",
    "#              \"penalty\": [None, \"l2\", \"l1\", \"elasticnet\"],\n",
    "#              \"alpha\": [0.0001, 0.001, 0.1],\n",
    "#              \"n_iter\": [5, 10, 50],              \n",
    "#              }\n",
    "\n",
    "#from sklearn.linear_model import LogisticRegression\n",
    "#dt = LogisticRegression()\n",
    "#param_dist = {\"penalty\": [\"l2\", \"l1\"],\n",
    "#              \"intercept_scaling\": [1.0, 5.0, 10], \n",
    "#              \"class_weight\": [\"dict\", \"optional\"],\n",
    "#              \"solver\": [\"newton-cg\", \"lbfgs\", \"liblinear\", \"sag\"],\n",
    "#              \"multi_class\": [ \"ovr\", \"multinomial\"],\n",
    "#              }\n",
    "\n",
    "#features = [\"Age\", \"Number of Rooms\",\n",
    "#            \"Seen Price\", \"Star Rating\"]\n",
    "#features = [\"Age\", \"Gender\",\"Number of Rooms\",\n",
    "#            \"Seen Price\",\"isClicked\",\"isBooked\",\"Star Rating\", \"TripAdvisor Rating\",\"Stay Period\",\"Travel Gap\"]\n",
    "features = [\"Age\",\"Gender\",\"Seen Price\",\"Star Rating\",\"Stay Period\"]\n",
    "\n",
    "y_arr = y_train[\"Segment\"]\n",
    "X_arr = X_train[features]\n",
    "#ts_gs = run_gridsearch(X_arr, y_arr, dt, param_dist, cv=10)\n",
    "#ts_rs = run_randomsearch(X_arr, y_arr, dt, param_dist, cv=10,n_iter_search=5000)"
   ]
  },
  {
   "cell_type": "code",
   "execution_count": 108,
   "metadata": {
    "collapsed": true
   },
   "outputs": [],
   "source": [
    "from time import time\n",
    "def run_gridsearch(X, y, clf, param_grid, cv=5):\n",
    "    \"\"\"Run a grid search for best Decision Tree parameters.\n",
    "\n",
    "    Args\n",
    "    ----\n",
    "    X -- features\n",
    "    y -- targets (classes)\n",
    "    cf -- scikit-learn Decision Tree\n",
    "    param_grid -- [dict] parameter settings to test\n",
    "    cv -- fold of cross-validation, default 5\n",
    "\n",
    "    Returns\n",
    "    -------\n",
    "    top_params -- [dict] from report()\n",
    "    \"\"\"\n",
    "    grid_search = GridSearchCV(clf,\n",
    "                               param_grid=param_grid,\n",
    "                               cv=cv, verbose=10)\n",
    "    start = time()\n",
    "    grid_search.fit(X, y)\n",
    "\n",
    "    print((\"\\nGridSearchCV took {:.2f} \"\n",
    "           \"seconds for {:d} candidate \"\n",
    "           \"parameter settings.\").format(time() - start,\n",
    "                len(grid_search.grid_scores_)))\n",
    "\n",
    "    top_params = report(grid_search.grid_scores_, 3)\n",
    "    return  top_params"
   ]
  },
  {
   "cell_type": "code",
   "execution_count": 28,
   "metadata": {
    "collapsed": true
   },
   "outputs": [],
   "source": [
    "def run_randomsearch(X, y, clf, para_dist, cv=5,\n",
    "                     n_iter_search=20):\n",
    "    \"\"\"Run a random search for best Decision Tree parameters.\n",
    "\n",
    "    Args\n",
    "    ----\n",
    "    X -- features\n",
    "    y -- targets (classes)\n",
    "    cf -- scikit-learn Decision Tree\n",
    "    param_dist -- [dict] list, distributions of parameters\n",
    "                  to sample\n",
    "    cv -- fold of cross-validation, default 5\n",
    "    n_iter_search -- number of random parameter sets to try,\n",
    "                     default 20.\n",
    "\n",
    "    Returns\n",
    "    -------\n",
    "    top_params -- [dict] from report()\n",
    "    \"\"\"\n",
    "    random_search = RandomizedSearchCV(clf,\n",
    "                        param_distributions=param_dist,\n",
    "                        n_iter=n_iter_search, verbose=10)\n",
    "\n",
    "    start = time()\n",
    "    random_search.fit(X, y)\n",
    "    print((\"\\nRandomizedSearchCV took {:.2f} seconds \"\n",
    "           \"for {:d} candidates parameter \"\n",
    "           \"settings.\").format((time() - start),\n",
    "                               n_iter_search))\n",
    "\n",
    "    top_params = report(random_search.grid_scores_, 3)\n",
    "    return  top_params\n",
    "\n"
   ]
  },
  {
   "cell_type": "code",
   "execution_count": 29,
   "metadata": {
    "collapsed": true
   },
   "outputs": [],
   "source": [
    "from time import time\n",
    "from operator import itemgetter\n",
    "from scipy.stats import randint\n",
    "def report(grid_scores, n_top=3):\n",
    "    \"\"\"Report top n_top parameters settings, default n_top=3.\n",
    "\n",
    "    Args\n",
    "    ----\n",
    "    grid_scores -- output from grid or random search\n",
    "    n_top -- how many to report, of top models\n",
    "\n",
    "    Returns\n",
    "    -------\n",
    "    top_params -- [dict] top parameter settings found in\n",
    "                  search\n",
    "    \"\"\"\n",
    "    top_scores = sorted(grid_scores,\n",
    "                        key=itemgetter(1),\n",
    "                        reverse=True)[:n_top]\n",
    "    for i, score in enumerate(top_scores):\n",
    "        print(\"Model with rank: {0}\".format(i + 1))\n",
    "        print((\"Mean validation score: \"\n",
    "               \"{0:.3f} (std: {1:.3f})\").format(\n",
    "               score.mean_validation_score,\n",
    "               np.std(score.cv_validation_scores)))\n",
    "        print(\"Parameters: {0}\".format(score.parameters))\n",
    "        print(\"\")\n",
    "\n",
    "    return top_scores[0].parameters\n",
    "\n"
   ]
  },
  {
   "cell_type": "code",
   "execution_count": null,
   "metadata": {
    "collapsed": false
   },
   "outputs": [],
   "source": [
    "import matplotlib.pyplot as plt\n",
    "from sklearn.svm import SVC\n",
    "from sklearn.cross_validation import StratifiedKFold\n",
    "from sklearn.feature_selection import RFECV\n",
    "from sklearn.datasets import make_classification\n",
    "\n",
    "svc = SVC(kernel=\"linear\")\n",
    "# The \"accuracy\" scoring is proportional to the number of correct\n",
    "# classifications\n",
    "rfecv = RFECV(estimator=svc, step=1, cv=StratifiedKFold(y_train, 2),\n",
    "              scoring='accuracy')\n",
    "rfecv.fit(X_train, y_train)\n",
    "\n",
    "print(\"Optimal number of features : %d\" % rfecv.n_features_)\n",
    "\n",
    "# Plot number of features VS. cross-validation scores\n",
    "plt.figure()\n",
    "plt.xlabel(\"Number of features selected\")\n",
    "plt.ylabel(\"Cross validation score (nb of correct classifications)\")\n",
    "plt.plot(range(1, len(rfecv.grid_scores_) + 1), rfecv.grid_scores_)\n",
    "plt.show()\n",
    "print \"Successfull!!\""
   ]
  },
  {
   "cell_type": "markdown",
   "metadata": {},
   "source": [
    "The following block and method is used to predict target for an input features set. This also returns the f_score based on the predicted target and the actual target."
   ]
  },
  {
   "cell_type": "code",
   "execution_count": 17,
   "metadata": {
    "collapsed": false
   },
   "outputs": [],
   "source": [
    "#Predict on training set and compute F1 score\n",
    "from sklearn.metrics import f1_score\n",
    "def predict_labels(clf, features, target):\n",
    "    print \"Predicting labels using {}...\".format(clf.__class__.__name__)\n",
    "    start = time.time()\n",
    "    y_pred = clf.predict(features)\n",
    "    end = time.time()\n",
    "    print \"Done!\\nPrediction time (secs): {:.3f}\".format(end - start)\n",
    "    #return f1_score(target.values, y_pred, pos_label='yes')\n",
    "    return f1_score(target.values, y_pred) , (end - start)\n"
   ]
  },
  {
   "cell_type": "markdown",
   "metadata": {},
   "source": [
    "The following block of code is used to see the f1 score of the training data used as a test set and the cross-validation test set."
   ]
  },
  {
   "cell_type": "code",
   "execution_count": 104,
   "metadata": {
    "collapsed": false
   },
   "outputs": [
    {
     "name": "stdout",
     "output_type": "stream",
     "text": [
      "Predicting labels using AdaBoostClassifier...\n",
      "Done!\n",
      "Prediction time (secs): 1.848\n",
      "F1 score for training set: (0.60420237473109606, 1.8482379913330078)\n",
      "Predicting labels using AdaBoostClassifier...\n",
      "Done!\n",
      "Prediction time (secs): 0.562"
     ]
    },
    {
     "name": "stderr",
     "output_type": "stream",
     "text": [
      "/home/akansha/anaconda2/lib/python2.7/site-packages/sklearn/metrics/classification.py:756: DeprecationWarning: The default `weighted` averaging is deprecated, and from version 0.18, use of precision, recall or F-score with multiclass or multilabel data or pos_label=None will result in an exception. Please set an explicit value for `average`, one of (None, 'micro', 'macro', 'weighted', 'samples'). In cross validation use, for instance, scoring=\"f1_weighted\" instead of scoring=\"f1\".\n",
      "  sample_weight=sample_weight)\n",
      "/home/akansha/anaconda2/lib/python2.7/site-packages/sklearn/metrics/classification.py:756: DeprecationWarning: The default `weighted` averaging is deprecated, and from version 0.18, use of precision, recall or F-score with multiclass or multilabel data or pos_label=None will result in an exception. Please set an explicit value for `average`, one of (None, 'micro', 'macro', 'weighted', 'samples'). In cross validation use, for instance, scoring=\"f1_weighted\" instead of scoring=\"f1\".\n",
      "  sample_weight=sample_weight)\n"
     ]
    },
    {
     "name": "stdout",
     "output_type": "stream",
     "text": [
      "\n",
      "F1 score for test set: (0.60992231970116939, 0.5618669986724854)\n"
     ]
    }
   ],
   "source": [
    "#print y_train.head()\n",
    "#print X_train.head()\n",
    "train_cv_f1_score = predict_labels(clf, X_train_cv, y_train_cv)\n",
    "print \"F1 score for training set: {}\".format(train_cv_f1_score)\n",
    "# Predict on test data\n",
    "test_cv_f1_score = predict_labels(clf, X_test_cv, y_test_cv)\n",
    "print \"F1 score for test set: {}\".format(test_cv_f1_score)"
   ]
  },
  {
   "cell_type": "code",
   "execution_count": 19,
   "metadata": {
    "collapsed": false
   },
   "outputs": [
    {
     "name": "stdout",
     "output_type": "stream",
     "text": [
      "Successfull!!\n"
     ]
    }
   ],
   "source": [
    "globalTestData = pd.read_csv(\"globalTest.csv\")\n",
    "#print globalTestData.head() # print the first 5 rows\n",
    "globalTestData=globalTestData.rename(columns = {' HotelCode':'HotelCode'})\n",
    "globalTestData=globalTestData.rename(columns = {' Age':'Age'})\n",
    "globalTestData=globalTestData.rename(columns = {' Gender':'Gender'})\n",
    "globalTestData=globalTestData.rename(columns = {' Number of Rooms':'Number of Rooms'})\n",
    "globalTestData=globalTestData.rename(columns = {' Check in date':'Check in date'})\n",
    "globalTestData=globalTestData.rename(columns = {' Check Out Date':'Check Out Date'})\n",
    "globalTestData=globalTestData.rename(columns = {' Seen Price':'Seen Price'})\n",
    "globalTestData=globalTestData.rename(columns = {' isClicked':'isClicked'})\n",
    "globalTestData=globalTestData.rename(columns = {' isBooked':'isBooked'})\n",
    "globalTestData=globalTestData.rename(columns = {' Segment':'Segment'})\n",
    "#print globalTestData.dtypes;\n",
    "globalTestData['Booking Date'] =  pd.to_datetime(globalTestData['Booking Date'])\n",
    "globalTestData['Check in date'] =  pd.to_datetime(globalTestData['Check in date'])\n",
    "globalTestData['Check Out Date'] =  pd.to_datetime(globalTestData['Check Out Date'])\n",
    "globalTestData['isClicked'] =  globalTestData['isClicked'].astype(str)\n",
    "globalTestData['isBooked'] =  globalTestData['isBooked'].astype(str)\n",
    "\n",
    "globalTestData['Stay Period'] = (globalTestData['Check Out Date'] - globalTestData['Check in date'])/np.timedelta64(1, 'D');\n",
    "globalTestData['Travel Gap'] = (globalTestData['Check in date'] - globalTestData['Booking Date'])/np.timedelta64(1, 'D');\n",
    "#print globalTestData.dtypes;\n",
    "#print \"Dataset has {} rows, {} columns\".format(*globalTestData.shape)\n",
    "#print globalTestData.head() # print the first 5 rows\n",
    "print \"Successfull!!\""
   ]
  },
  {
   "cell_type": "code",
   "execution_count": null,
   "metadata": {
    "collapsed": true
   },
   "outputs": [],
   "source": [
    "def string_to_date(my_string):\n",
    "    if '-' in my_string:\n",
    "        return datetime.datetime.strptime(my_string, '%d-%m-%y')\n",
    "    elif my_string.isdigit():\n",
    "        return datetime.datetime.strptime(my_string, '%d%m%y')\n",
    "    elif my_string.isalnum():\n",
    "        return datetime.datetime.strptime(my_string, '%d%b%Y')"
   ]
  },
  {
   "cell_type": "code",
   "execution_count": 105,
   "metadata": {
    "collapsed": false
   },
   "outputs": [
    {
     "name": "stdout",
     "output_type": "stream",
     "text": [
      "Successfull!!\n"
     ]
    },
    {
     "name": "stderr",
     "output_type": "stream",
     "text": [
      "/home/akansha/anaconda2/lib/python2.7/site-packages/ipykernel/__main__.py:9: SettingWithCopyWarning: \n",
      "A value is trying to be set on a copy of a slice from a DataFrame.\n",
      "Try using .loc[row_indexer,col_indexer] = value instead\n",
      "\n",
      "See the caveats in the documentation: http://pandas.pydata.org/pandas-docs/stable/indexing.html#indexing-view-versus-copy\n"
     ]
    }
   ],
   "source": [
    "#Now separate training data\n",
    "#X_test=globalTestData.iloc[:,[3,4,5,8,9,10,16,17,18,19]];\n",
    "#X_test=globalTestData.iloc[:,[3]];\n",
    "#X_test=globalTestData.iloc[:,[3,4,5,8,9,16,17,18,19]];\n",
    "X_test=globalTestData.iloc[:,[3,5,8,16,18]];\n",
    "#X_test['Gender'] = X_test['Gender'].replace(['male', 'female'], [1, 0])\n",
    "#X_test['isClicked'] = X_test['isClicked'].replace(['True', 'False'], [1, 0])\n",
    "#X_test['isBooked'] = X_test['isBooked'].replace(['True', 'False'], [1, 0])\n",
    "X_test[X_test < 0] = 0\n",
    "#print X_test.head();\n",
    "#print X_test.dtypes;\n",
    "#print X_train['Travel Gap'];\n",
    "print \"Successfull!!\""
   ]
  },
  {
   "cell_type": "code",
   "execution_count": 106,
   "metadata": {
    "collapsed": false
   },
   "outputs": [
    {
     "name": "stdout",
     "output_type": "stream",
     "text": [
      "Training AdaBoostClassifier...\n",
      "Done!\n",
      "Training time (secs): 5.786\n",
      "Successfull!!\n"
     ]
    },
    {
     "name": "stderr",
     "output_type": "stream",
     "text": [
      "/home/akansha/anaconda2/lib/python2.7/site-packages/sklearn/utils/validation.py:515: DataConversionWarning: A column-vector y was passed when a 1d array was expected. Please change the shape of y to (n_samples, ), for example using ravel().\n",
      "  y = column_or_1d(y, warn=True)\n"
     ]
    }
   ],
   "source": [
    "# Fit model to training data\n",
    "#Best classifier\n",
    "#clf = DecisionTreeClassifier(random_state=0)\n",
    "train_classifier(clf, X_train, y_train) # note: using entire training set here\n",
    "y_pred = clf.predict(X_test)\n",
    "#print \"Dataset has {} rows, {} columns\".format(*y_pred.shape)\n",
    "#print y_pred.head()\n",
    "print \"Successfull!!\""
   ]
  },
  {
   "cell_type": "code",
   "execution_count": null,
   "metadata": {
    "collapsed": false
   },
   "outputs": [],
   "source": [
    "#print y_pred\n",
    "#y_pred = y_pred.reshape((-1,1))\n",
    "#df_pred = pd.DataFrame({'Segment':y_pred[:,0]})\n",
    "#print df_pred.head()\n",
    "#print \"Dataset has {} rows, {} columns\".format(*df_pred.shape)"
   ]
  },
  {
   "cell_type": "code",
   "execution_count": 107,
   "metadata": {
    "collapsed": false
   },
   "outputs": [
    {
     "name": "stdout",
     "output_type": "stream",
     "text": [
      "   Search ID  Segment\n",
      "0    1000000        3\n",
      "1    1000001        3\n",
      "2    1000002        3\n",
      "3    1000003        3\n",
      "4    1000004        3\n",
      "Dataset has 297321 rows, 2 columns\n"
     ]
    }
   ],
   "source": [
    "y_pred = y_pred.reshape((-1,1))\n",
    "df_output= pd.DataFrame({'Search ID':globalTestData['Search ID'],'Segment':y_pred[:,0]})\n",
    "print df_output.head()\n",
    "print \"Dataset has {} rows, {} columns\".format(*df_output.shape)\n",
    "df_output.to_csv('akansha_out15.csv',columns=None, header=False)"
   ]
  },
  {
   "cell_type": "code",
   "execution_count": null,
   "metadata": {
    "collapsed": true
   },
   "outputs": [],
   "source": []
  }
 ],
 "metadata": {
  "kernelspec": {
   "display_name": "Python 2",
   "language": "python",
   "name": "python2"
  },
  "language_info": {
   "codemirror_mode": {
    "name": "ipython",
    "version": 2
   },
   "file_extension": ".py",
   "mimetype": "text/x-python",
   "name": "python",
   "nbconvert_exporter": "python",
   "pygments_lexer": "ipython2",
   "version": "2.7.11"
  }
 },
 "nbformat": 4,
 "nbformat_minor": 0
}
